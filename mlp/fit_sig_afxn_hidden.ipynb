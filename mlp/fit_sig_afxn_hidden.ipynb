{
 "cells": [
  {
   "cell_type": "code",
   "execution_count": null,
   "id": "f172a562",
   "metadata": {},
   "outputs": [],
   "source": [
    "import os\n",
    "\n",
    "from PIL import Image\n",
    "\n",
    "import numpy as np\n",
    "import random\n",
    "\n",
    "import torch\n",
    "import torch.nn as nn\n",
    "\n",
    "import matplotlib.pyplot as plt\n",
    "from IPython import display\n",
    "from torchviz import make_dot\n",
    "from torchview import draw_graph"
   ]
  },
  {
   "cell_type": "code",
   "execution_count": null,
   "id": "86ad28ae",
   "metadata": {},
   "outputs": [],
   "source": [
    "# Settings\n",
    "x_range = [-10, 10]\n",
    "x_reshape = [-1, 1]\n",
    "x_samples = 500\n",
    "\n",
    "nn_samp_range = int(x_samples * 0.4)\n",
    "nn_start_idx = np.random.randint(0, x_samples-nn_samp_range)\n",
    "nn_samples = int(x_samples * 0.1)\n",
    "\n",
    "max_plots = 20\n",
    "gif_fps = 5\n",
    "\n",
    "num_in_nodes = 1\n",
    "num_out_nodes = 1\n",
    "num_hid_nodes = [1]\n",
    "\n",
    "train_seed = 123\n",
    "nn_lr = 1e-3\n",
    "loss_th = 1e-5\n",
    "\n",
    "activation = nn.Sigmoid\n",
    "# activation = nn.Tanh\n",
    "# activation = nn.Mish\n",
    "\n",
    "# Generate the data from Analytical Solution\n",
    "scale_ind = 1\n",
    "shift_ind = 0\n",
    "scale_dep = 1\n",
    "shift_dep = 0"
   ]
  },
  {
   "cell_type": "code",
   "execution_count": null,
   "id": "b011ca5f",
   "metadata": {},
   "outputs": [],
   "source": [
    "# Save a gif file\n",
    "def save_gif_PIL(outfile, files, fps=5, loop=0):\n",
    "    imgs = [Image.open(file) for file in files]\n",
    "    imgs[0].save(fp=outfile, format='GIF', append_images=imgs[1:], save_all=True, duration=int(1000/fps), loop=loop)    "
   ]
  },
  {
   "cell_type": "code",
   "execution_count": null,
   "id": "9188c349",
   "metadata": {},
   "outputs": [],
   "source": [
    "def plot_result(x, y, x_data, y_data, yh, xp=None):\n",
    "   \n",
    "    \"Pretty plot training results\"\n",
    "    plt.figure(figsize=(8,4))\n",
    "   \n",
    "    plt.plot(x,y, color=\"grey\", linewidth=3, alpha=0.5, label=\"Exact solution\")\n",
    "   \n",
    "    plt.plot(x,yh, color=\"tab:blue\", linewidth=1, linestyle='dashed', alpha=1.0, label=\"Neural network prediction\")\n",
    "   \n",
    "    if x_data is not None:\n",
    "        plt.scatter(x_data, y_data, s=60, color=\"tab:orange\", alpha=0.75, label='Training data')\n",
    "       \n",
    "    if xp is not None:\n",
    "        plt.scatter(xp, -0*torch.ones_like(xp), s=20, color=\"tab:green\", alpha=0.75,\n",
    "                    label='Physics loss training locations')\n",
    "   \n",
    "    l = plt.legend(loc='best', frameon=False, fontsize=\"large\")\n",
    "   \n",
    "    plt.setp(l.get_texts(), color=\"k\")\n",
    "    \n",
    "#     plt.xlim(-0.05, 1.05)\n",
    "#     plt.ylim(min(y)-0.1*abs(max(y)), max(y) + 0.1*abs(max(y)))\n",
    "   \n",
    "    plt.text(1.065,0.7*max(y),\"Training step: %i\"%(i+1),fontsize=\"xx-large\",color=\"k\")\n",
    "   \n",
    "    plt.axis(\"off\")"
   ]
  },
  {
   "cell_type": "code",
   "execution_count": null,
   "id": "5830b2ad",
   "metadata": {},
   "outputs": [],
   "source": [
    "# Fully Connected Network (FCN) for Training\n",
    "class FCN(nn.Module):\n",
    "    \n",
    "    def __init__(self, N_INPUT, N_OUTPUT, N_HIDDEN):\n",
    "        \n",
    "        super().__init__()\n",
    "        \n",
    "        num_layers = len(N_HIDDEN)\n",
    "        \n",
    "        # Input Layer\n",
    "        self.fcn = nn.Sequential(*[nn.Linear(N_INPUT, N_HIDDEN[0]), activation()])\n",
    "        \n",
    "        # Hidden Layers\n",
    "        self.fch = []\n",
    "        for l_idx in range(num_layers-1):\n",
    "            self.fch.append(\n",
    "                nn.Sequential(*[nn.Linear(N_HIDDEN[l_idx], N_HIDDEN[l_idx+1]), activation()])\n",
    "            )\n",
    "            \n",
    "        # Output Layer\n",
    "        self.fce = nn.Sequential(*[nn.Linear(N_HIDDEN[-1], N_OUTPUT), activation()])\n",
    "        \n",
    "    def forward(self, x):\n",
    "        \n",
    "        x = self.fcn(x)\n",
    "        \n",
    "        num_layers = len(self.fch)\n",
    "        for l_idx in range(num_layers):\n",
    "            x = self.fch[l_idx](x)\n",
    "            \n",
    "        x = self.fce(x)\n",
    "        \n",
    "        return x    "
   ]
  },
  {
   "cell_type": "code",
   "execution_count": null,
   "id": "c033039a",
   "metadata": {},
   "outputs": [],
   "source": [
    "# Create a Sigmoid Function\n",
    "def create_sigmoid(x, scale_dep, shift_dep, scale_ind, shift_ind):\n",
    "    lin_eq = scale_ind*x + shift_ind\n",
    "    y = (scale_dep / (1 + np.exp(-lin_eq))) + shift_dep\n",
    "    return y"
   ]
  },
  {
   "cell_type": "code",
   "execution_count": null,
   "id": "6bdc4c03",
   "metadata": {},
   "outputs": [],
   "source": [
    "# Sampling Points\n",
    "input_idxs = range(nn_start_idx, nn_start_idx+nn_samp_range)\n",
    "\n",
    "# Uniform Sampling\n",
    "train_idxs = np.linspace(0, x_samples-1, nn_samples).astype('int')\n",
    "\n",
    "# Create the directory to store images\n",
    "if not os.path.exists('epoch_plots'):\n",
    "    os.mkdir('epoch_plots')    "
   ]
  },
  {
   "cell_type": "code",
   "execution_count": null,
   "id": "0925fa44",
   "metadata": {},
   "outputs": [],
   "source": [
    "x_exact = torch.linspace(x_range[0], x_range[1], x_samples).view(x_reshape[0],x_reshape[1])\n",
    "y_ref = create_sigmoid(x_exact, 1, 0, 1, 0).view(x_reshape[0],x_reshape[1])\n",
    "y_exact = create_sigmoid(x_exact, scale_dep, shift_dep, scale_ind, shift_ind).view(x_reshape[0],x_reshape[1])"
   ]
  },
  {
   "cell_type": "code",
   "execution_count": null,
   "id": "2917ac43",
   "metadata": {},
   "outputs": [],
   "source": [
    "# Slice out a small number of points\n",
    "x_data = x_exact[train_idxs]\n",
    "y_data = y_exact[train_idxs]"
   ]
  },
  {
   "cell_type": "code",
   "execution_count": null,
   "id": "1080aa75",
   "metadata": {},
   "outputs": [],
   "source": [
    "sig_eq = r\"f(x) = ${\\frac{%d} {1+e^{-%dx-%d}}} + %d$\" % (scale_dep, scale_ind, shift_ind, shift_dep)"
   ]
  },
  {
   "cell_type": "code",
   "execution_count": null,
   "id": "3210c7b0",
   "metadata": {},
   "outputs": [],
   "source": [
    "# Plot the original and modified functions\n",
    "plt.figure()\n",
    "plt.plot(x_exact, y_ref, c='r', ls='dashed', label='Ref Fxn')\n",
    "plt.plot(x_exact, y_exact, label='Exact Solution')\n",
    "plt.scatter(x_data, y_data, color='tab:orange', label=\"Training Data\")\n",
    "\n",
    "plt.title(sig_eq, fontsize=16)\n",
    "plt.legend()\n",
    "plt.show()"
   ]
  },
  {
   "cell_type": "code",
   "execution_count": null,
   "id": "8ca3556a",
   "metadata": {},
   "outputs": [],
   "source": [
    "# Train the NN to fit the data\n",
    "torch.manual_seed(train_seed)\n",
    "\n",
    "num_epochs = 50000\n",
    "loss_scale = 10000\n",
    "\n",
    "plot_freq = int(num_epochs/max_plots)"
   ]
  },
  {
   "cell_type": "code",
   "execution_count": null,
   "id": "753696fc",
   "metadata": {},
   "outputs": [],
   "source": [
    "# Create the model\n",
    "model = FCN(num_in_nodes, num_out_nodes, num_hid_nodes)\n",
    "\n",
    "# Assign an Optimizer\n",
    "optimizer = torch.optim.Adam(model.parameters(), lr=nn_lr)"
   ]
  },
  {
   "cell_type": "code",
   "execution_count": null,
   "id": "c3c2c8c0",
   "metadata": {},
   "outputs": [],
   "source": [
    "# yp_data = model(x_data)\n",
    "# make_dot(yp_data, params=dict(model.named_parameters()), show_attrs=True, show_saved=True).render(\"simple_nn_torchviz\", format=\"png\")"
   ]
  },
  {
   "cell_type": "code",
   "execution_count": null,
   "id": "88a8eac7",
   "metadata": {},
   "outputs": [],
   "source": [
    "# model_graph = draw_graph(model, input_size=(1,), device='meta')\n",
    "# model_graph.visual_graph"
   ]
  },
  {
   "cell_type": "code",
   "execution_count": null,
   "id": "1ee10f62",
   "metadata": {},
   "outputs": [],
   "source": [
    "# Train the model\n",
    "files_nn = []\n",
    "for i in range(num_epochs):\n",
    "    \n",
    "    plot_img = False\n",
    "    stop_training = False\n",
    "    \n",
    "    optimizer.zero_grad()\n",
    "    yp_data = model(x_data)\n",
    "    \n",
    "    # Use MSE\n",
    "    loss_data = torch.mean((yp_data-y_data)**2)\n",
    "    if loss_data < loss_th/loss_scale:\n",
    "        plot_img = True\n",
    "        stop_training = True\n",
    "        \n",
    "    if not stop_training:\n",
    "        loss_data.backward()\n",
    "        optimizer.step()\n",
    "        \n",
    "    if i % plot_freq == 0:\n",
    "        plot_img = True\n",
    "        \n",
    "    # Plot the result as the training progresses\n",
    "    if plot_img:\n",
    "        yp_exact = model(x_exact).detach()\n",
    "        \n",
    "        plot_result(x_exact[:,0], y_exact[:,0], x_data[:,0], y_data[:,0], yp_exact)\n",
    "        \n",
    "        file_nn = \"epoch_plots/nn_%.4i.png\" % (i)\n",
    "        plt.savefig(file_nn, bbox_inches='tight', pad_inches=0.1, dpi=100, facecolor='white')\n",
    "        files_nn.append(file_nn)\n",
    "        \n",
    "        plt.close('all')\n",
    "        \n",
    "    if stop_training:\n",
    "        break        "
   ]
  },
  {
   "cell_type": "code",
   "execution_count": null,
   "id": "3490d966",
   "metadata": {},
   "outputs": [],
   "source": [
    "# Plot the final fit\n",
    "yp_exact = model(x_exact).detach()\n",
    "plot_result(x_exact[:,0], y_exact[:,0], x_data[:,0], y_data[:,0], yp_exact)\n",
    "\n",
    "file_nn = \"nn_sig_with_%s_%d-%d-%d-%d.png\" % (activation().__class__.__name__, scale_ind, shift_ind, scale_dep, shift_dep)\n",
    "plt.savefig(file_nn, bbox_inches='tight', pad_inches=0.1, dpi=100, facecolor='white')\n",
    "\n",
    "save_gif_PIL(\"nn_sig_with_%s_%d-%d-%d-%d.gif\" % (activation().__class__.__name__, scale_ind, shift_ind, scale_dep, shift_dep), files_nn, fps=gif_fps, loop=0)\n",
    "\n",
    "display.Image(file_nn)\n",
    "\n",
    "for name,param in model.named_parameters():\n",
    "    if param.requires_grad:\n",
    "        print(name, param.data)"
   ]
  },
  {
   "cell_type": "code",
   "execution_count": null,
   "id": "a4e51ce5",
   "metadata": {},
   "outputs": [],
   "source": []
  }
 ],
 "metadata": {
  "kernelspec": {
   "display_name": "ai-ws",
   "language": "python",
   "name": "ai-workshop"
  },
  "language_info": {
   "codemirror_mode": {
    "name": "ipython",
    "version": 3
   },
   "file_extension": ".py",
   "mimetype": "text/x-python",
   "name": "python",
   "nbconvert_exporter": "python",
   "pygments_lexer": "ipython3",
   "version": "3.8.0"
  }
 },
 "nbformat": 4,
 "nbformat_minor": 5
}
