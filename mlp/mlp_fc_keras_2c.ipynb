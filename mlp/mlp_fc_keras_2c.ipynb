{
 "cells": [
  {
   "cell_type": "code",
   "execution_count": 1,
   "id": "6137eab0",
   "metadata": {},
   "outputs": [],
   "source": [
    "from IPython.display import Image, display"
   ]
  },
  {
   "cell_type": "code",
   "execution_count": 2,
   "id": "c7ce94da",
   "metadata": {},
   "outputs": [],
   "source": [
    "import os\n",
    "import random\n",
    "import numpy as np\n",
    "import matplotlib.pyplot as plt"
   ]
  },
  {
   "cell_type": "code",
   "execution_count": 3,
   "id": "cd56dbb2",
   "metadata": {},
   "outputs": [],
   "source": [
    "# Import Keras modules\n",
    "import tensorflow as tf\n",
    "from tensorflow.keras.models import Sequential\n",
    "from tensorflow.keras.layers import Dense\n",
    "from tensorflow.keras.optimizers import Adam\n",
    "from tensorflow.keras.utils import to_categorical\n",
    "from tensorflow.keras.utils import plot_model\n",
    "from tensorflow.keras.utils import model_to_dot"
   ]
  },
  {
   "cell_type": "code",
   "execution_count": 4,
   "id": "a1ee7795",
   "metadata": {},
   "outputs": [],
   "source": [
    "from keras_visualizer import visualizer"
   ]
  },
  {
   "cell_type": "code",
   "execution_count": 5,
   "id": "92118d3c",
   "metadata": {},
   "outputs": [],
   "source": [
    "from mlxtend.data import iris_data\n",
    "from mlxtend.preprocessing import standardize\n",
    "from mlxtend.plotting import plot_decision_regions"
   ]
  },
  {
   "cell_type": "code",
   "execution_count": 6,
   "id": "e2dc169c",
   "metadata": {},
   "outputs": [],
   "source": [
    "# Set Seed value for reproducible results\n",
    "seed_val = 2\n",
    "os.environ['PYTHONHASHSEED']=str(seed_val)\n",
    "tf.random.set_seed(seed_val)\n",
    "np.random.seed(seed_val)\n",
    "random.seed(seed_val)"
   ]
  },
  {
   "cell_type": "code",
   "execution_count": 7,
   "id": "55bd82e5",
   "metadata": {},
   "outputs": [],
   "source": [
    "# Load the IRIS data\n",
    "X, y = iris_data()\n",
    "X = X[:, [2, 3]]"
   ]
  },
  {
   "cell_type": "code",
   "execution_count": 8,
   "id": "f8fce76a",
   "metadata": {},
   "outputs": [],
   "source": [
    "# Normalize to zero mean and unit standard deviation\n",
    "X = standardize(X)\n",
    "\n",
    "# OneHot encoding\n",
    "y_onehot = to_categorical(y)"
   ]
  },
  {
   "cell_type": "code",
   "execution_count": 9,
   "id": "b771d176",
   "metadata": {},
   "outputs": [],
   "source": [
    "# Create the network\n",
    "np.random.seed(123)\n",
    "network = Sequential()\n",
    "network.add(Dense(8, input_shape=(2,), activation='relu', kernel_initializer='he_uniform'))\n",
    "network.add(Dense(4, activation='relu', kernel_initializer='he_uniform'))\n",
    "network.add(Dense(3, activation='softmax'))"
   ]
  },
  {
   "cell_type": "code",
   "execution_count": 10,
   "id": "addc0f1d",
   "metadata": {},
   "outputs": [
    {
     "name": "stdout",
     "output_type": "stream",
     "text": [
      "Model: \"sequential\"\n",
      "_________________________________________________________________\n",
      " Layer (type)                Output Shape              Param #   \n",
      "=================================================================\n",
      " dense (Dense)               (None, 8)                 24        \n",
      "                                                                 \n",
      " dense_1 (Dense)             (None, 4)                 36        \n",
      "                                                                 \n",
      " dense_2 (Dense)             (None, 3)                 15        \n",
      "                                                                 \n",
      "=================================================================\n",
      "Total params: 75\n",
      "Trainable params: 75\n",
      "Non-trainable params: 0\n",
      "_________________________________________________________________\n"
     ]
    }
   ],
   "source": [
    "# Display all the layers of the network\n",
    "network.summary()"
   ]
  },
  {
   "cell_type": "code",
   "execution_count": 11,
   "id": "81805388",
   "metadata": {},
   "outputs": [
    {
     "data": {
      "image/png": "[encoded data removed]",
      "text/plain": [
       "<IPython.core.display.Image object>"
      ]
     },
     "metadata": {},
     "output_type": "display_data"
    }
   ],
   "source": [
    "# Visualize the network\n",
    "visualizer(network, filename='graph_2c', format='png', view=False)\n",
    "display(Image(filename='graph_2c.png'))"
   ]
  },
  {
   "cell_type": "code",
   "execution_count": 12,
   "id": "17460a87",
   "metadata": {},
   "outputs": [
    {
     "data": {
      "image/png": "[encoded data removed]",
      "text/plain": [
       "<IPython.core.display.Image object>"
      ]
     },
     "execution_count": 12,
     "metadata": {},
     "output_type": "execute_result"
    }
   ],
   "source": [
    "# Visualize Network\n",
    "plot_model(network, to_file='network_2c.png', show_shapes=True)"
   ]
  },
  {
   "cell_type": "code",
   "execution_count": 13,
   "id": "b16df654",
   "metadata": {},
   "outputs": [
    {
     "name": "stdout",
     "output_type": "stream",
     "text": [
      "Epoch 1/100\n",
      "17/17 [==============================] - 1s 25ms/step - loss: 1.2703 - accuracy: 0.1778 - val_loss: 1.2096 - val_accuracy: 0.0000e+00\n",
      "Epoch 2/100\n",
      "17/17 [==============================] - 0s 5ms/step - loss: 1.0232 - accuracy: 0.5704 - val_loss: 1.1187 - val_accuracy: 0.0667\n",
      "Epoch 3/100\n",
      "17/17 [==============================] - 0s 4ms/step - loss: 0.8643 - accuracy: 0.7259 - val_loss: 1.0064 - val_accuracy: 1.0000\n",
      "Epoch 4/100\n",
      "17/17 [==============================] - 0s 6ms/step - loss: 0.7407 - accuracy: 0.7926 - val_loss: 0.8820 - val_accuracy: 1.0000\n",
      "Epoch 5/100\n",
      "17/17 [==============================] - 0s 5ms/step - loss: 0.6394 - accuracy: 0.8741 - val_loss: 0.7345 - val_accuracy: 1.0000\n",
      "Epoch 6/100\n",
      "17/17 [==============================] - 0s 5ms/step - loss: 0.5605 - accuracy: 0.8741 - val_loss: 0.5166 - val_accuracy: 1.0000\n",
      "Epoch 7/100\n",
      "17/17 [==============================] - 0s 4ms/step - loss: 0.4917 - accuracy: 0.9037 - val_loss: 0.3608 - val_accuracy: 1.0000\n",
      "Epoch 8/100\n",
      "17/17 [==============================] - 0s 5ms/step - loss: 0.4354 - accuracy: 0.9407 - val_loss: 0.3094 - val_accuracy: 1.0000\n",
      "Epoch 9/100\n",
      "17/17 [==============================] - 0s 5ms/step - loss: 0.3932 - accuracy: 0.9556 - val_loss: 0.2212 - val_accuracy: 1.0000\n",
      "Epoch 10/100\n",
      "17/17 [==============================] - 0s 5ms/step - loss: 0.3612 - accuracy: 0.9556 - val_loss: 0.1825 - val_accuracy: 1.0000\n",
      "Epoch 11/100\n",
      "17/17 [==============================] - 0s 5ms/step - loss: 0.3275 - accuracy: 0.9630 - val_loss: 0.1729 - val_accuracy: 1.0000\n",
      "Epoch 12/100\n",
      "17/17 [==============================] - 0s 4ms/step - loss: 0.3036 - accuracy: 0.9630 - val_loss: 0.1493 - val_accuracy: 1.0000\n",
      "Epoch 13/100\n",
      "17/17 [==============================] - 0s 4ms/step - loss: 0.2840 - accuracy: 0.9704 - val_loss: 0.1497 - val_accuracy: 1.0000\n",
      "Epoch 14/100\n",
      "17/17 [==============================] - 0s 4ms/step - loss: 0.2636 - accuracy: 0.9630 - val_loss: 0.1196 - val_accuracy: 1.0000\n",
      "Epoch 15/100\n",
      "17/17 [==============================] - 0s 5ms/step - loss: 0.2482 - accuracy: 0.9630 - val_loss: 0.1052 - val_accuracy: 1.0000\n",
      "Epoch 16/100\n",
      "17/17 [==============================] - 0s 6ms/step - loss: 0.2342 - accuracy: 0.9630 - val_loss: 0.0872 - val_accuracy: 1.0000\n",
      "Epoch 17/100\n",
      "17/17 [==============================] - 0s 5ms/step - loss: 0.2202 - accuracy: 0.9630 - val_loss: 0.0984 - val_accuracy: 1.0000\n",
      "Epoch 18/100\n",
      "17/17 [==============================] - 0s 4ms/step - loss: 0.2106 - accuracy: 0.9704 - val_loss: 0.1082 - val_accuracy: 1.0000\n",
      "Epoch 19/100\n",
      "17/17 [==============================] - 0s 4ms/step - loss: 0.1979 - accuracy: 0.9704 - val_loss: 0.0785 - val_accuracy: 1.0000\n",
      "Epoch 20/100\n",
      "17/17 [==============================] - 0s 5ms/step - loss: 0.1899 - accuracy: 0.9630 - val_loss: 0.0777 - val_accuracy: 1.0000\n",
      "Epoch 21/100\n",
      "17/17 [==============================] - 0s 4ms/step - loss: 0.1810 - accuracy: 0.9704 - val_loss: 0.0717 - val_accuracy: 1.0000\n",
      "Epoch 22/100\n",
      "17/17 [==============================] - 0s 4ms/step - loss: 0.1734 - accuracy: 0.9704 - val_loss: 0.0730 - val_accuracy: 1.0000\n",
      "Epoch 23/100\n",
      "17/17 [==============================] - 0s 4ms/step - loss: 0.1669 - accuracy: 0.9704 - val_loss: 0.0692 - val_accuracy: 1.0000\n",
      "Epoch 24/100\n",
      "17/17 [==============================] - 0s 5ms/step - loss: 0.1604 - accuracy: 0.9630 - val_loss: 0.0740 - val_accuracy: 1.0000\n",
      "Epoch 25/100\n",
      "17/17 [==============================] - 0s 5ms/step - loss: 0.1556 - accuracy: 0.9630 - val_loss: 0.0534 - val_accuracy: 1.0000\n",
      "Epoch 26/100\n",
      "17/17 [==============================] - 0s 5ms/step - loss: 0.1511 - accuracy: 0.9630 - val_loss: 0.0690 - val_accuracy: 1.0000\n",
      "Epoch 27/100\n",
      "17/17 [==============================] - 0s 5ms/step - loss: 0.1455 - accuracy: 0.9630 - val_loss: 0.0547 - val_accuracy: 1.0000\n",
      "Epoch 28/100\n",
      "17/17 [==============================] - 0s 4ms/step - loss: 0.1407 - accuracy: 0.9630 - val_loss: 0.0539 - val_accuracy: 1.0000\n",
      "Epoch 29/100\n",
      "17/17 [==============================] - 0s 4ms/step - loss: 0.1366 - accuracy: 0.9630 - val_loss: 0.0680 - val_accuracy: 1.0000\n",
      "Epoch 30/100\n",
      "17/17 [==============================] - 0s 5ms/step - loss: 0.1349 - accuracy: 0.9630 - val_loss: 0.0579 - val_accuracy: 1.0000\n",
      "Epoch 31/100\n",
      "17/17 [==============================] - 0s 4ms/step - loss: 0.1291 - accuracy: 0.9556 - val_loss: 0.0410 - val_accuracy: 1.0000\n",
      "Epoch 32/100\n",
      "17/17 [==============================] - 0s 4ms/step - loss: 0.1274 - accuracy: 0.9556 - val_loss: 0.0573 - val_accuracy: 1.0000\n",
      "Epoch 33/100\n",
      "17/17 [==============================] - 0s 5ms/step - loss: 0.1238 - accuracy: 0.9630 - val_loss: 0.0467 - val_accuracy: 1.0000\n",
      "Epoch 34/100\n",
      "17/17 [==============================] - 0s 4ms/step - loss: 0.1212 - accuracy: 0.9630 - val_loss: 0.0429 - val_accuracy: 1.0000\n",
      "Epoch 35/100\n",
      "17/17 [==============================] - 0s 4ms/step - loss: 0.1197 - accuracy: 0.9556 - val_loss: 0.0509 - val_accuracy: 1.0000\n",
      "Epoch 36/100\n",
      "17/17 [==============================] - 0s 5ms/step - loss: 0.1155 - accuracy: 0.9630 - val_loss: 0.0489 - val_accuracy: 1.0000\n",
      "Epoch 37/100\n",
      "17/17 [==============================] - 0s 5ms/step - loss: 0.1132 - accuracy: 0.9630 - val_loss: 0.0453 - val_accuracy: 1.0000\n",
      "Epoch 38/100\n",
      "17/17 [==============================] - 0s 4ms/step - loss: 0.1121 - accuracy: 0.9630 - val_loss: 0.0430 - val_accuracy: 1.0000\n",
      "Epoch 39/100\n",
      "17/17 [==============================] - 0s 5ms/step - loss: 0.1103 - accuracy: 0.9630 - val_loss: 0.0401 - val_accuracy: 1.0000\n",
      "Epoch 40/100\n",
      "17/17 [==============================] - 0s 4ms/step - loss: 0.1080 - accuracy: 0.9630 - val_loss: 0.0444 - val_accuracy: 1.0000\n",
      "Epoch 41/100\n",
      "17/17 [==============================] - 0s 4ms/step - loss: 0.1054 - accuracy: 0.9630 - val_loss: 0.0529 - val_accuracy: 1.0000\n",
      "Epoch 42/100\n",
      "17/17 [==============================] - 0s 4ms/step - loss: 0.1062 - accuracy: 0.9556 - val_loss: 0.0390 - val_accuracy: 1.0000\n",
      "Epoch 43/100\n",
      "17/17 [==============================] - 0s 5ms/step - loss: 0.1019 - accuracy: 0.9630 - val_loss: 0.0470 - val_accuracy: 1.0000\n",
      "Epoch 44/100\n",
      "17/17 [==============================] - 0s 4ms/step - loss: 0.1020 - accuracy: 0.9630 - val_loss: 0.0447 - val_accuracy: 1.0000\n",
      "Epoch 45/100\n",
      "17/17 [==============================] - 0s 4ms/step - loss: 0.0999 - accuracy: 0.9630 - val_loss: 0.0472 - val_accuracy: 1.0000\n",
      "Epoch 46/100\n",
      "17/17 [==============================] - 0s 5ms/step - loss: 0.1028 - accuracy: 0.9556 - val_loss: 0.0323 - val_accuracy: 1.0000\n",
      "Epoch 47/100\n",
      "17/17 [==============================] - 0s 5ms/step - loss: 0.0972 - accuracy: 0.9630 - val_loss: 0.0430 - val_accuracy: 1.0000\n",
      "Epoch 48/100\n",
      "17/17 [==============================] - 0s 4ms/step - loss: 0.1008 - accuracy: 0.9556 - val_loss: 0.0463 - val_accuracy: 1.0000\n",
      "Epoch 49/100\n",
      "17/17 [==============================] - 0s 5ms/step - loss: 0.0985 - accuracy: 0.9630 - val_loss: 0.0524 - val_accuracy: 1.0000\n",
      "Epoch 50/100\n",
      "17/17 [==============================] - 0s 4ms/step - loss: 0.0967 - accuracy: 0.9556 - val_loss: 0.0323 - val_accuracy: 1.0000\n",
      "Epoch 51/100\n",
      "17/17 [==============================] - 0s 5ms/step - loss: 0.0920 - accuracy: 0.9630 - val_loss: 0.0510 - val_accuracy: 1.0000\n",
      "Epoch 52/100\n",
      "17/17 [==============================] - 0s 5ms/step - loss: 0.0933 - accuracy: 0.9630 - val_loss: 0.0405 - val_accuracy: 1.0000\n",
      "Epoch 53/100\n",
      "17/17 [==============================] - 0s 5ms/step - loss: 0.0911 - accuracy: 0.9630 - val_loss: 0.0419 - val_accuracy: 1.0000\n",
      "Epoch 54/100\n",
      "17/17 [==============================] - 0s 5ms/step - loss: 0.0903 - accuracy: 0.9630 - val_loss: 0.0485 - val_accuracy: 1.0000\n",
      "Epoch 55/100\n",
      "17/17 [==============================] - 0s 4ms/step - loss: 0.0905 - accuracy: 0.9630 - val_loss: 0.0357 - val_accuracy: 1.0000\n",
      "Epoch 56/100\n",
      "17/17 [==============================] - 0s 5ms/step - loss: 0.0901 - accuracy: 0.9556 - val_loss: 0.0341 - val_accuracy: 1.0000\n",
      "Epoch 57/100\n",
      "17/17 [==============================] - 0s 4ms/step - loss: 0.0933 - accuracy: 0.9630 - val_loss: 0.0533 - val_accuracy: 1.0000\n",
      "Epoch 58/100\n",
      "17/17 [==============================] - 0s 4ms/step - loss: 0.0867 - accuracy: 0.9630 - val_loss: 0.0344 - val_accuracy: 1.0000\n"
     ]
    },
    {
     "name": "stdout",
     "output_type": "stream",
     "text": [
      "Epoch 59/100\n",
      "17/17 [==============================] - 0s 4ms/step - loss: 0.0874 - accuracy: 0.9630 - val_loss: 0.0335 - val_accuracy: 1.0000\n",
      "Epoch 60/100\n",
      "17/17 [==============================] - 0s 4ms/step - loss: 0.0872 - accuracy: 0.9556 - val_loss: 0.0358 - val_accuracy: 1.0000\n",
      "Epoch 61/100\n",
      "17/17 [==============================] - 0s 4ms/step - loss: 0.0863 - accuracy: 0.9630 - val_loss: 0.0462 - val_accuracy: 1.0000\n",
      "Epoch 62/100\n",
      "17/17 [==============================] - 0s 4ms/step - loss: 0.0856 - accuracy: 0.9630 - val_loss: 0.0325 - val_accuracy: 1.0000\n",
      "Epoch 63/100\n",
      "17/17 [==============================] - 0s 4ms/step - loss: 0.0846 - accuracy: 0.9556 - val_loss: 0.0355 - val_accuracy: 1.0000\n",
      "Epoch 64/100\n",
      "17/17 [==============================] - 0s 4ms/step - loss: 0.0835 - accuracy: 0.9556 - val_loss: 0.0355 - val_accuracy: 1.0000\n",
      "Epoch 65/100\n",
      "17/17 [==============================] - 0s 4ms/step - loss: 0.0866 - accuracy: 0.9556 - val_loss: 0.0419 - val_accuracy: 1.0000\n",
      "Epoch 66/100\n",
      "17/17 [==============================] - 0s 4ms/step - loss: 0.0826 - accuracy: 0.9630 - val_loss: 0.0418 - val_accuracy: 1.0000\n",
      "Epoch 67/100\n",
      "17/17 [==============================] - 0s 4ms/step - loss: 0.0813 - accuracy: 0.9630 - val_loss: 0.0332 - val_accuracy: 1.0000\n",
      "Epoch 68/100\n",
      "17/17 [==============================] - 0s 3ms/step - loss: 0.0815 - accuracy: 0.9556 - val_loss: 0.0266 - val_accuracy: 1.0000\n",
      "Epoch 69/100\n",
      "17/17 [==============================] - 0s 4ms/step - loss: 0.0831 - accuracy: 0.9556 - val_loss: 0.0262 - val_accuracy: 1.0000\n",
      "Epoch 70/100\n",
      "17/17 [==============================] - 0s 4ms/step - loss: 0.0797 - accuracy: 0.9556 - val_loss: 0.0403 - val_accuracy: 1.0000\n",
      "Epoch 71/100\n",
      "17/17 [==============================] - 0s 5ms/step - loss: 0.0879 - accuracy: 0.9704 - val_loss: 0.0496 - val_accuracy: 1.0000\n",
      "Epoch 72/100\n",
      "17/17 [==============================] - 0s 4ms/step - loss: 0.0860 - accuracy: 0.9556 - val_loss: 0.0215 - val_accuracy: 1.0000\n",
      "Epoch 73/100\n",
      "17/17 [==============================] - 0s 4ms/step - loss: 0.0805 - accuracy: 0.9556 - val_loss: 0.0430 - val_accuracy: 1.0000\n",
      "Epoch 74/100\n",
      "17/17 [==============================] - 0s 6ms/step - loss: 0.0802 - accuracy: 0.9630 - val_loss: 0.0359 - val_accuracy: 1.0000\n",
      "Epoch 75/100\n",
      "17/17 [==============================] - 0s 4ms/step - loss: 0.0792 - accuracy: 0.9556 - val_loss: 0.0344 - val_accuracy: 1.0000\n",
      "Epoch 76/100\n",
      "17/17 [==============================] - 0s 4ms/step - loss: 0.0798 - accuracy: 0.9556 - val_loss: 0.0293 - val_accuracy: 1.0000\n",
      "Epoch 77/100\n",
      "17/17 [==============================] - 0s 4ms/step - loss: 0.0780 - accuracy: 0.9556 - val_loss: 0.0390 - val_accuracy: 1.0000\n",
      "Epoch 78/100\n",
      "17/17 [==============================] - 0s 4ms/step - loss: 0.0782 - accuracy: 0.9630 - val_loss: 0.0355 - val_accuracy: 1.0000\n",
      "Epoch 79/100\n",
      "17/17 [==============================] - 0s 4ms/step - loss: 0.0791 - accuracy: 0.9556 - val_loss: 0.0327 - val_accuracy: 1.0000\n",
      "Epoch 80/100\n",
      "17/17 [==============================] - 0s 4ms/step - loss: 0.0774 - accuracy: 0.9556 - val_loss: 0.0411 - val_accuracy: 1.0000\n",
      "Epoch 81/100\n",
      "17/17 [==============================] - 0s 4ms/step - loss: 0.0774 - accuracy: 0.9630 - val_loss: 0.0402 - val_accuracy: 1.0000\n",
      "Epoch 82/100\n",
      "17/17 [==============================] - 0s 4ms/step - loss: 0.0764 - accuracy: 0.9630 - val_loss: 0.0347 - val_accuracy: 1.0000\n",
      "Epoch 83/100\n",
      "17/17 [==============================] - 0s 4ms/step - loss: 0.0774 - accuracy: 0.9556 - val_loss: 0.0277 - val_accuracy: 1.0000\n",
      "Epoch 84/100\n",
      "17/17 [==============================] - 0s 4ms/step - loss: 0.0781 - accuracy: 0.9556 - val_loss: 0.0443 - val_accuracy: 1.0000\n",
      "Epoch 85/100\n",
      "17/17 [==============================] - 0s 3ms/step - loss: 0.0771 - accuracy: 0.9556 - val_loss: 0.0300 - val_accuracy: 1.0000\n",
      "Epoch 86/100\n",
      "17/17 [==============================] - 0s 4ms/step - loss: 0.0767 - accuracy: 0.9556 - val_loss: 0.0396 - val_accuracy: 1.0000\n",
      "Epoch 87/100\n",
      "17/17 [==============================] - 0s 5ms/step - loss: 0.0758 - accuracy: 0.9630 - val_loss: 0.0400 - val_accuracy: 1.0000\n",
      "Epoch 88/100\n",
      "17/17 [==============================] - 0s 4ms/step - loss: 0.0744 - accuracy: 0.9630 - val_loss: 0.0283 - val_accuracy: 1.0000\n",
      "Epoch 89/100\n",
      "17/17 [==============================] - 0s 5ms/step - loss: 0.0753 - accuracy: 0.9556 - val_loss: 0.0297 - val_accuracy: 1.0000\n",
      "Epoch 90/100\n",
      "17/17 [==============================] - 0s 5ms/step - loss: 0.0743 - accuracy: 0.9556 - val_loss: 0.0340 - val_accuracy: 1.0000\n",
      "Epoch 91/100\n",
      "17/17 [==============================] - 0s 4ms/step - loss: 0.0759 - accuracy: 0.9630 - val_loss: 0.0339 - val_accuracy: 1.0000\n",
      "Epoch 92/100\n",
      "17/17 [==============================] - 0s 4ms/step - loss: 0.0747 - accuracy: 0.9556 - val_loss: 0.0277 - val_accuracy: 1.0000\n",
      "Epoch 93/100\n",
      "17/17 [==============================] - 0s 4ms/step - loss: 0.0767 - accuracy: 0.9556 - val_loss: 0.0268 - val_accuracy: 1.0000\n",
      "Epoch 94/100\n",
      "17/17 [==============================] - 0s 4ms/step - loss: 0.0831 - accuracy: 0.9630 - val_loss: 0.0496 - val_accuracy: 1.0000\n",
      "Epoch 95/100\n",
      "17/17 [==============================] - 0s 4ms/step - loss: 0.0733 - accuracy: 0.9630 - val_loss: 0.0337 - val_accuracy: 1.0000\n",
      "Epoch 96/100\n",
      "17/17 [==============================] - 0s 4ms/step - loss: 0.0742 - accuracy: 0.9556 - val_loss: 0.0297 - val_accuracy: 1.0000\n",
      "Epoch 97/100\n",
      "17/17 [==============================] - 0s 4ms/step - loss: 0.0739 - accuracy: 0.9556 - val_loss: 0.0260 - val_accuracy: 1.0000\n",
      "Epoch 98/100\n",
      "17/17 [==============================] - 0s 4ms/step - loss: 0.0806 - accuracy: 0.9630 - val_loss: 0.0378 - val_accuracy: 1.0000\n",
      "Epoch 99/100\n",
      "17/17 [==============================] - 0s 4ms/step - loss: 0.0718 - accuracy: 0.9556 - val_loss: 0.0239 - val_accuracy: 1.0000\n",
      "Epoch 100/100\n",
      "17/17 [==============================] - 0s 4ms/step - loss: 0.0733 - accuracy: 0.9556 - val_loss: 0.0299 - val_accuracy: 1.0000\n"
     ]
    }
   ],
   "source": [
    "# Configure the network and start training\n",
    "network.compile(loss=\"categorical_crossentropy\",\n",
    "                optimizer=Adam(learning_rate=0.005),\n",
    "                metrics=['accuracy'])\n",
    "\n",
    "history = network.fit(X, y_onehot, epochs=100, batch_size=8, verbose=1, validation_split=0.1)"
   ]
  },
  {
   "cell_type": "code",
   "execution_count": 14,
   "id": "d0c54ead",
   "metadata": {},
   "outputs": [],
   "source": [
    "class Onehot2Int(object):\n",
    "\n",
    "    def __init__(self, network):\n",
    "        self.network = network\n",
    "\n",
    "    def predict(self, X):\n",
    "        y_pred = self.network.predict(X)\n",
    "        return np.argmax(y_pred, axis=1)"
   ]
  },
  {
   "cell_type": "code",
   "execution_count": 15,
   "id": "c104ce1e",
   "metadata": {},
   "outputs": [
    {
     "data": {
      "image/png": "[encoded data removed]",
      "text/plain": [
       "<Figure size 432x288 with 1 Axes>"
      ]
     },
     "metadata": {
      "needs_background": "light"
     },
     "output_type": "display_data"
    }
   ],
   "source": [
    "# Wrap keras network\n",
    "network_no_ohe = Onehot2Int(network)\n",
    "\n",
    "# Plot decision boundary\n",
    "plot_decision_regions(X, y, clf=network_no_ohe)\n",
    "plt.show()"
   ]
  },
  {
   "cell_type": "code",
   "execution_count": null,
   "id": "e8d67518",
   "metadata": {},
   "outputs": [],
   "source": []
  }
 ],
 "metadata": {
  "kernelspec": {
   "display_name": "Python 3 (ipykernel)",
   "language": "python",
   "name": "python3"
  },
  "language_info": {
   "codemirror_mode": {
    "name": "ipython",
    "version": 3
   },
   "file_extension": ".py",
   "mimetype": "text/x-python",
   "name": "python",
   "nbconvert_exporter": "python",
   "pygments_lexer": "ipython3",
   "version": "3.8.5"
  }
 },
 "nbformat": 4,
 "nbformat_minor": 5
}
